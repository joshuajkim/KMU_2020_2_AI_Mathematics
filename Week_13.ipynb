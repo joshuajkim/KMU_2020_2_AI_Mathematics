{
 "cells": [
  {
   "cell_type": "code",
   "execution_count": 37,
   "metadata": {},
   "outputs": [],
   "source": [
    "import numpy as np\n",
    "from scipy.stats import entropy\n",
    "import matplotlib.pyplot as plt\n",
    "from pgmpy.factors.discrete import JointProbabilityDistribution as JPD\n",
    "import pgmpy"
   ]
  },
  {
   "cell_type": "markdown",
   "metadata": {},
   "source": [
    "## Joint Probability Distribution (A)"
   ]
  },
  {
   "cell_type": "code",
   "execution_count": 34,
   "metadata": {},
   "outputs": [
    {
     "name": "stdout",
     "output_type": "stream",
     "text": [
      "Mutual Information: 0.0\n",
      "(X and Y are independent from each other, and that is why the Mutual Information is Zero.)\n"
     ]
    }
   ],
   "source": [
    "pxy = 1/4 * np.array([1,1,1,1])\n",
    "fxy = JPD(['X', 'Y'], [2, 2], pxy)\n",
    "px = fxy.marginal_distribution(['X'], inplace=False).values\n",
    "py = fxy.marginal_distribution(['Y'], inplace=False).values\n",
    "h_xy = np.dot(pxy, -np.log(pxy))\n",
    "h_x = np.dot(px, -np.log(px))\n",
    "h_y = np.dot(py, -np.log(py))\n",
    "i_xy = h_x + h_y - h_xy\n",
    "print('Mutual Information:', i_xy.round(3))\n",
    "print('(X and Y are independent from each other, and that is why the Mutual Information is Zero.)')"
   ]
  },
  {
   "cell_type": "markdown",
   "metadata": {},
   "source": [
    "## Joint Probability Distribution (B)"
   ]
  },
  {
   "cell_type": "code",
   "execution_count": 35,
   "metadata": {},
   "outputs": [],
   "source": [
    "# this user-defined function is not to calculate log(0).\n",
    "def entropy_without_zero(ps):\n",
    "    answer = 0\n",
    "    for p in ps:\n",
    "        if p == 0:\n",
    "            continue\n",
    "        answer = answer - p * np.log(p)\n",
    "    return answer"
   ]
  },
  {
   "cell_type": "code",
   "execution_count": 36,
   "metadata": {},
   "outputs": [
    {
     "name": "stdout",
     "output_type": "stream",
     "text": [
      "Mutual Information: 0.693\n"
     ]
    }
   ],
   "source": [
    "pxy = 1/2 * np.array([1,0,0,1])\n",
    "fxy = JPD(['X', 'Y'], [2, 2], pxy)\n",
    "px = fxy.marginal_distribution(['X'], inplace=False).values\n",
    "py = fxy.marginal_distribution(['Y'], inplace=False).values\n",
    "h_xy = entropy_without_zero(pxy)\n",
    "h_x = entropy_without_zero(px)\n",
    "h_y = entropy_without_zero(py)\n",
    "i_xy = h_x + h_y - h_xy\n",
    "print('Mutual Information:', i_xy.round(3))"
   ]
  },
  {
   "cell_type": "code",
   "execution_count": null,
   "metadata": {},
   "outputs": [],
   "source": []
  },
  {
   "cell_type": "code",
   "execution_count": 38,
   "metadata": {},
   "outputs": [
    {
     "data": {
      "text/plain": [
       "1.1835618070658083"
      ]
     },
     "execution_count": 38,
     "metadata": {},
     "output_type": "execute_result"
    }
   ],
   "source": [
    "3/2 * np.log(2) - 1/2 * np.log(3/4)"
   ]
  },
  {
   "cell_type": "code",
   "execution_count": 39,
   "metadata": {},
   "outputs": [
    {
     "name": "stdout",
     "output_type": "stream",
     "text": [
      "1.04 1.099 1.184\n"
     ]
    }
   ],
   "source": [
    "px = 1/4 * np.array([1,2,1])\n",
    "qx = 1/3 * np.ones(3)\n",
    "rx = 1/8 * np.array([1,6,1])\n",
    "\n",
    "hx = np.dot(px, -np.log(px))\n",
    "hpq = np.dot(px, -np.log(qx))\n",
    "hpr = np.dot(px, -np.log(rx))\n",
    "\n",
    "print(hx.round(3), hpq.round(3), hpr.round(3))"
   ]
  },
  {
   "cell_type": "code",
   "execution_count": null,
   "metadata": {},
   "outputs": [],
   "source": []
  }
 ],
 "metadata": {
  "kernelspec": {
   "display_name": "Python 3",
   "language": "python",
   "name": "python3"
  },
  "language_info": {
   "codemirror_mode": {
    "name": "ipython",
    "version": 3
   },
   "file_extension": ".py",
   "mimetype": "text/x-python",
   "name": "python",
   "nbconvert_exporter": "python",
   "pygments_lexer": "ipython3",
   "version": "3.8.3"
  }
 },
 "nbformat": 4,
 "nbformat_minor": 4
}
