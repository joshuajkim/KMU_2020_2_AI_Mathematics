{
 "cells": [
  {
   "cell_type": "code",
   "execution_count": 8,
   "metadata": {},
   "outputs": [],
   "source": [
    "import numpy as np\n",
    "import scipy\n",
    "from scipy import linalg as la\n",
    "import pgmpy\n",
    "from pgmpy.factors.discrete import JointProbabilityDistribution as JPD"
   ]
  },
  {
   "cell_type": "markdown",
   "metadata": {},
   "source": [
    "Join Probability Density Function"
   ]
  },
  {
   "cell_type": "code",
   "execution_count": 9,
   "metadata": {},
   "outputs": [
    {
     "name": "stdout",
     "output_type": "stream",
     "text": [
      "+-------+-------+------------+\n",
      "| X1    | X2    |   P(X1,X2) |\n",
      "+=======+=======+============+\n",
      "| X1(0) | X2(0) |     0.0952 |\n",
      "+-------+-------+------------+\n",
      "| X1(0) | X2(1) |     0.1429 |\n",
      "+-------+-------+------------+\n",
      "| X1(1) | X2(0) |     0.1429 |\n",
      "+-------+-------+------------+\n",
      "| X1(1) | X2(1) |     0.1905 |\n",
      "+-------+-------+------------+\n",
      "| X1(2) | X2(0) |     0.1905 |\n",
      "+-------+-------+------------+\n",
      "| X1(2) | X2(1) |     0.2381 |\n",
      "+-------+-------+------------+\n"
     ]
    }
   ],
   "source": [
    "prob = list()\n",
    "for i in np.arange(1, 4, 1):\n",
    "    for j in np.arange(1, 3, 1):\n",
    "        prob.append((i + j) / 21)\n",
    "        \n",
    "fxy = JPD(['X1', 'X2'], [3, 2], prob)\n",
    "print(fxy)"
   ]
  },
  {
   "cell_type": "markdown",
   "metadata": {},
   "source": [
    "Probability Density Function"
   ]
  },
  {
   "cell_type": "code",
   "execution_count": 10,
   "metadata": {},
   "outputs": [
    {
     "data": {
      "text/plain": [
       "1.0"
      ]
     },
     "execution_count": 10,
     "metadata": {},
     "output_type": "execute_result"
    }
   ],
   "source": [
    "np.sum(fxy.values)"
   ]
  },
  {
   "cell_type": "markdown",
   "metadata": {},
   "source": [
    "Marginal Probability Density Function"
   ]
  },
  {
   "cell_type": "code",
   "execution_count": 11,
   "metadata": {},
   "outputs": [
    {
     "name": "stdout",
     "output_type": "stream",
     "text": [
      "+-------+---------+\n",
      "| X1    |   P(X1) |\n",
      "+=======+=========+\n",
      "| X1(0) |  0.2381 |\n",
      "+-------+---------+\n",
      "| X1(1) |  0.3333 |\n",
      "+-------+---------+\n",
      "| X1(2) |  0.4286 |\n",
      "+-------+---------+\n"
     ]
    }
   ],
   "source": [
    "fx = fxy.marginal_distribution(['X1'], inplace=False)\n",
    "print(fx)"
   ]
  },
  {
   "cell_type": "markdown",
   "metadata": {},
   "source": [
    "Conditional Probability Density Function"
   ]
  },
  {
   "cell_type": "code",
   "execution_count": 14,
   "metadata": {},
   "outputs": [
    {
     "name": "stdout",
     "output_type": "stream",
     "text": [
      "+-------+---------+\n",
      "| X2    |   P(X2) |\n",
      "+=======+=========+\n",
      "| X2(0) |  0.4000 |\n",
      "+-------+---------+\n",
      "| X2(1) |  0.6000 |\n",
      "+-------+---------+\n"
     ]
    }
   ],
   "source": [
    "prob = fxy.conditional_distribution([('X1', 0)], inplace=False)\n",
    "print(prob)"
   ]
  },
  {
   "cell_type": "markdown",
   "metadata": {},
   "source": [
    "Correlation Coefficient"
   ]
  },
  {
   "cell_type": "code",
   "execution_count": 15,
   "metadata": {},
   "outputs": [
    {
     "name": "stdout",
     "output_type": "stream",
     "text": [
      "+------+------+----------+\n",
      "| X    | Y    |   P(X,Y) |\n",
      "+======+======+==========+\n",
      "| X(0) | Y(0) |   0.1333 |\n",
      "+------+------+----------+\n",
      "| X(0) | Y(1) |   0.2667 |\n",
      "+------+------+----------+\n",
      "| X(0) | Y(2) |   0.2000 |\n",
      "+------+------+----------+\n",
      "| X(1) | Y(0) |   0.0667 |\n",
      "+------+------+----------+\n",
      "| X(1) | Y(1) |   0.0667 |\n",
      "+------+------+----------+\n",
      "| X(1) | Y(2) |   0.2667 |\n",
      "+------+------+----------+\n"
     ]
    }
   ],
   "source": [
    "prob = np.array([2, 4, 3, 1, 1, 4]) / 15\n",
    "fxy = JPD(['X', 'Y'], [2, 3], prob)\n",
    "print(fxy)"
   ]
  },
  {
   "cell_type": "code",
   "execution_count": 16,
   "metadata": {},
   "outputs": [
    {
     "data": {
      "text/plain": [
       "1.0"
      ]
     },
     "execution_count": 16,
     "metadata": {},
     "output_type": "execute_result"
    }
   ],
   "source": [
    "np.sum(fxy.values)"
   ]
  },
  {
   "cell_type": "code",
   "execution_count": 17,
   "metadata": {},
   "outputs": [
    {
     "name": "stdout",
     "output_type": "stream",
     "text": [
      "+------+--------+\n",
      "| X    |   P(X) |\n",
      "+======+========+\n",
      "| X(0) | 0.6000 |\n",
      "+------+--------+\n",
      "| X(1) | 0.4000 |\n",
      "+------+--------+\n"
     ]
    }
   ],
   "source": [
    "fx = fxy.marginal_distribution(['X'], inplace=False)\n",
    "print(fx)"
   ]
  },
  {
   "cell_type": "code",
   "execution_count": 18,
   "metadata": {},
   "outputs": [
    {
     "data": {
      "text/plain": [
       "1.4"
      ]
     },
     "execution_count": 18,
     "metadata": {},
     "output_type": "execute_result"
    }
   ],
   "source": [
    "x = np.array([1, 2])\n",
    "EX = np.dot(x, fx.values)\n",
    "EX.round(3)"
   ]
  },
  {
   "cell_type": "code",
   "execution_count": 19,
   "metadata": {},
   "outputs": [
    {
     "data": {
      "text/plain": [
       "2.2"
      ]
     },
     "execution_count": 19,
     "metadata": {},
     "output_type": "execute_result"
    }
   ],
   "source": [
    "EXX = np.dot(x*x, fx.values)\n",
    "EXX.round(3)"
   ]
  },
  {
   "cell_type": "code",
   "execution_count": 20,
   "metadata": {},
   "outputs": [
    {
     "data": {
      "text/plain": [
       "0.49"
      ]
     },
     "execution_count": 20,
     "metadata": {},
     "output_type": "execute_result"
    }
   ],
   "source": [
    "SDX = np.sqrt(EXX - EX**2)\n",
    "SDX.round(3)"
   ]
  },
  {
   "cell_type": "code",
   "execution_count": 21,
   "metadata": {},
   "outputs": [
    {
     "data": {
      "text/plain": [
       "0.772"
      ]
     },
     "execution_count": 21,
     "metadata": {},
     "output_type": "execute_result"
    }
   ],
   "source": [
    "fy = fxy.marginal_distribution(['Y'], inplace=False)\n",
    "y = np.array([1, 2, 3])\n",
    "EY = np.dot(y, fy.values)\n",
    "EYY = np.dot(y*y, fy.values)\n",
    "SDY = np.sqrt(EYY - EY**2)\n",
    "SDY.round(3)"
   ]
  },
  {
   "cell_type": "code",
   "execution_count": 23,
   "metadata": {},
   "outputs": [
    {
     "data": {
      "text/plain": [
       "array([1, 2, 3, 2, 4, 6])"
      ]
     },
     "execution_count": 23,
     "metadata": {},
     "output_type": "execute_result"
    }
   ],
   "source": [
    "xy = np.outer(x, y).reshape(-1,)\n",
    "xy"
   ]
  },
  {
   "cell_type": "code",
   "execution_count": 24,
   "metadata": {},
   "outputs": [
    {
     "data": {
      "text/plain": [
       "3.267"
      ]
     },
     "execution_count": 24,
     "metadata": {},
     "output_type": "execute_result"
    }
   ],
   "source": [
    "EXY = np.dot(xy, fxy.values.reshape(-1,))\n",
    "EXY.round(3)"
   ]
  },
  {
   "cell_type": "code",
   "execution_count": 25,
   "metadata": {},
   "outputs": [
    {
     "data": {
      "text/plain": [
       "0.093"
      ]
     },
     "execution_count": 25,
     "metadata": {},
     "output_type": "execute_result"
    }
   ],
   "source": [
    "# Covariance\n",
    "CovXY = EXY - EX*EY\n",
    "CovXY.round(3)"
   ]
  },
  {
   "cell_type": "code",
   "execution_count": 26,
   "metadata": {},
   "outputs": [
    {
     "data": {
      "text/plain": [
       "0.247"
      ]
     },
     "execution_count": 26,
     "metadata": {},
     "output_type": "execute_result"
    }
   ],
   "source": [
    "rho = CovXY / (SDX * SDY)\n",
    "rho.round(3)"
   ]
  },
  {
   "cell_type": "code",
   "execution_count": 27,
   "metadata": {},
   "outputs": [
    {
     "data": {
      "text/plain": [
       "False"
      ]
     },
     "execution_count": 27,
     "metadata": {},
     "output_type": "execute_result"
    }
   ],
   "source": [
    "fxy.check_independence(['X'], ['Y'])"
   ]
  },
  {
   "cell_type": "code",
   "execution_count": 28,
   "metadata": {},
   "outputs": [
    {
     "data": {
      "text/plain": [
       "<Joint Distribution representing P(X:2, Y:3) at 0x1cec711a340>"
      ]
     },
     "execution_count": 28,
     "metadata": {},
     "output_type": "execute_result"
    }
   ],
   "source": [
    "fxy"
   ]
  },
  {
   "cell_type": "code",
   "execution_count": 29,
   "metadata": {},
   "outputs": [
    {
     "name": "stdout",
     "output_type": "stream",
     "text": [
      "+------+------+----------+\n",
      "| X    | Y    |   P(X,Y) |\n",
      "+======+======+==========+\n",
      "| X(0) | Y(0) |   0.1333 |\n",
      "+------+------+----------+\n",
      "| X(0) | Y(1) |   0.2667 |\n",
      "+------+------+----------+\n",
      "| X(0) | Y(2) |   0.2000 |\n",
      "+------+------+----------+\n",
      "| X(1) | Y(0) |   0.0667 |\n",
      "+------+------+----------+\n",
      "| X(1) | Y(1) |   0.0667 |\n",
      "+------+------+----------+\n",
      "| X(1) | Y(2) |   0.2667 |\n",
      "+------+------+----------+\n"
     ]
    }
   ],
   "source": [
    "print(fxy)"
   ]
  },
  {
   "cell_type": "code",
   "execution_count": null,
   "metadata": {},
   "outputs": [],
   "source": []
  }
 ],
 "metadata": {
  "kernelspec": {
   "display_name": "Python 3",
   "language": "python",
   "name": "python3"
  },
  "language_info": {
   "codemirror_mode": {
    "name": "ipython",
    "version": 3
   },
   "file_extension": ".py",
   "mimetype": "text/x-python",
   "name": "python",
   "nbconvert_exporter": "python",
   "pygments_lexer": "ipython3",
   "version": "3.8.3"
  }
 },
 "nbformat": 4,
 "nbformat_minor": 4
}
